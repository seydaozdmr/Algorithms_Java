{
 "cells": [
  {
   "cell_type": "markdown",
   "metadata": {},
   "source": [
    "# Listeler\n",
    "Listeler Nedir?\n",
    "\n",
    "Listeler birden çok elemanın düzenli olarak saklandığı koleksiyonlardır. Bundan önce öğrendiğimiz veri yapılarında (integer,string) sadece belirli bir bilgi bu tip değişkenlerde saklanabiliyordu. Listelerde ise ister bir kaç öğeniz olsun isterseniz de milyonlarca öğeye sahip olun tek bir liste nesnesi içerisinde saklayabiliriz. Daha sonra bu elemanlara erişip kullabiliriz. Listeler Python'un en önemli veri yapılarından biridir. Listelerin içine karakter dizilerini ya da sayısal ifadeleri yerleştirebiliriz. Python'da listeleri tanımlarken [] köşeli parantezleri kullanıyoruz. Liste içerisindeki elemanları ayırırken virgül kullanıyoruz. Şimdi bir liste oluşturalım ve nasıl tanımlandığını öğrenelim. "
   ]
  },
  {
   "cell_type": "code",
   "execution_count": 4,
   "metadata": {},
   "outputs": [],
   "source": [
    "meyveler=[\"karpuz\",\"kavun\",\"çilek\",\"erik\"]"
   ]
  },
  {
   "cell_type": "markdown",
   "metadata": {},
   "source": [
    "Oluşturuğumuz meyveler listesine ekrana yazdıralım."
   ]
  },
  {
   "cell_type": "code",
   "execution_count": 5,
   "metadata": {},
   "outputs": [
    {
     "data": {
      "text/plain": [
       "['karpuz', 'kavun', 'çilek', 'erik']"
      ]
     },
     "execution_count": 5,
     "metadata": {},
     "output_type": "execute_result"
    }
   ],
   "source": [
    "meyveler"
   ]
  },
  {
   "cell_type": "markdown",
   "metadata": {},
   "source": [
    "## Liste İçerisindeki Elemanlara Erişim\n",
    "Liste içerisinde elemanlara liste içerideki elemanın index numarasını köşeli parantezler içine yazarak erişebiliriz. Örneğin meyveler listesinin ilk elemanına erişmek istiyorum."
   ]
  },
  {
   "cell_type": "code",
   "execution_count": 6,
   "metadata": {},
   "outputs": [
    {
     "data": {
      "text/plain": [
       "'karpuz'"
      ]
     },
     "execution_count": 6,
     "metadata": {},
     "output_type": "execute_result"
    }
   ],
   "source": [
    "meyveler[0]"
   ]
  },
  {
   "cell_type": "markdown",
   "metadata": {},
   "source": [
    "Burada dikkatimizi çeken ayrıntı karpuz elemanına erişmek için meyveler[0], yani meyveler listesinin sıfırıncı elemanını çağırdık. Eğer hatırlarsak string veri yapısında da index numaralarının 0'dan başladığını öğrenmiştik. Aynı şekilde listelerde de index numaraları 0'dan başlıyor."
   ]
  },
  {
   "cell_type": "markdown",
   "metadata": {},
   "source": [
    "Not: Liste içerisindeki elemana (string,interger olabilir.) o elemanın kendine ait metotlarını uygulayabiliriz."
   ]
  },
  {
   "cell_type": "code",
   "execution_count": 7,
   "metadata": {},
   "outputs": [
    {
     "data": {
      "text/plain": [
       "'Kavun'"
      ]
     },
     "execution_count": 7,
     "metadata": {},
     "output_type": "execute_result"
    }
   ],
   "source": [
    "#Erişeceğimiz 1 index numaralı elemanı baş harfi büyük yazdırmak istersek title() fonksiyonunu kullabiliriz.\n",
    "meyveler[1].title()"
   ]
  },
  {
   "cell_type": "code",
   "execution_count": 8,
   "metadata": {},
   "outputs": [
    {
     "data": {
      "text/plain": [
       "'erik'"
      ]
     },
     "execution_count": 8,
     "metadata": {},
     "output_type": "execute_result"
    }
   ],
   "source": [
    "#Liste elemanlarına sondan başa doğru erişmek için -1'den başlayarak erişebiliriz.\n",
    "meyveler[-1]"
   ]
  },
  {
   "cell_type": "markdown",
   "metadata": {},
   "source": [
    "## Liste elemanlarını bağımsız olarak kullanmak\n",
    "Liste elemanlarımızı diğer ifadeler içerisinde bağımsız olarak kullanmak isteyebiliriz. Örneğin bir döngü içerisinde kullanmak istersek:"
   ]
  },
  {
   "cell_type": "code",
   "execution_count": 14,
   "metadata": {},
   "outputs": [
    {
     "name": "stdout",
     "output_type": "stream",
     "text": [
      "0. meyve: Karpuz\n",
      "1. meyve: Kavun\n",
      "2. meyve: Çilek\n",
      "3. meyve: Erik\n"
     ]
    }
   ],
   "source": [
    "for i in range(len(meyveler)):\n",
    "    print(\"{0}. meyve: {1}\".format(i,meyveler[i].title()))"
   ]
  },
  {
   "cell_type": "markdown",
   "metadata": {},
   "source": [
    "Kullandığımız döngü ile len(meyveler) sayesinde meyveler listesinin eleman sayısını bulduk. Daha sonra range() fonksiyonu ile döngünün meyveler listesindeki eleman sayısı kadar döneceğini belirttik. Daha sonra print fonksiyonu içerisine {} süslü parantezler ile meyvelerin sırasıyla yazılmasını sağladık bunun için .format() fonksiyonunu kullandık. meyveler listesinin elemanlarına döngü sayesinde erişmiş olduk. Listemizin elemanlarını bşa harfi büyük yazdırmak için .title() fonksiyonunu kullanmış olduk. \".format(i,meyveler[i].title())\""
   ]
  },
  {
   "cell_type": "markdown",
   "metadata": {},
   "source": [
    "## Değiştirme, Ekleme ve Silme İşlemleri\n",
    "Liste nesneleri dinamik olarak çalışır. Bu ne demektir, listeyi oluşturduktan sonra üzerine eleman eklemeniz, çıkarmanız ya da elemanlar üzerinde değişiklik yapmanız gerektir. Python'da listeler mutable yani değiştirilebilir olarak tasarlanmıştır. Şimdi bir örnek ile bu işlemlerin nasıl yapıldığını uygulayarak görelim."
   ]
  },
  {
   "cell_type": "code",
   "execution_count": 1,
   "metadata": {},
   "outputs": [],
   "source": [
    "araba=[\"opel\",\"volkswagen\",\"audi\",\"bmw\"]"
   ]
  },
  {
   "cell_type": "code",
   "execution_count": 2,
   "metadata": {},
   "outputs": [
    {
     "data": {
      "text/plain": [
       "'opel'"
      ]
     },
     "execution_count": 2,
     "metadata": {},
     "output_type": "execute_result"
    }
   ],
   "source": [
    "araba[0]"
   ]
  },
  {
   "cell_type": "code",
   "execution_count": 3,
   "metadata": {},
   "outputs": [],
   "source": [
    "#Şimdi araba listesinin 1. elemanını değiştirelim\n",
    "araba[0]=\"mercedes\""
   ]
  },
  {
   "cell_type": "code",
   "execution_count": 4,
   "metadata": {},
   "outputs": [
    {
     "data": {
      "text/plain": [
       "'mercedes'"
      ]
     },
     "execution_count": 4,
     "metadata": {},
     "output_type": "execute_result"
    }
   ],
   "source": [
    "araba[0]"
   ]
  },
  {
   "cell_type": "markdown",
   "metadata": {},
   "source": [
    "Liste elemanını değiştirirken atama yoluyla değiştirme işlemini gerçekleştirdik. Listeye bir eleman eklerken ise birden çok yönteme sahibiz. Örneğin listenin sonuna bir değer eklemek istersek append() fonksiyonunu kullabiliriz."
   ]
  },
  {
   "cell_type": "code",
   "execution_count": 5,
   "metadata": {},
   "outputs": [],
   "source": [
    "araba.append(\"honda\")"
   ]
  },
  {
   "cell_type": "code",
   "execution_count": 6,
   "metadata": {},
   "outputs": [
    {
     "data": {
      "text/plain": [
       "['mercedes', 'volkswagen', 'audi', 'bmw', 'honda']"
      ]
     },
     "execution_count": 6,
     "metadata": {},
     "output_type": "execute_result"
    }
   ],
   "source": [
    "araba\n",
    "#Honda değerinin sona eklendiğini aşağıda görebiliyoruz."
   ]
  },
  {
   "cell_type": "code",
   "execution_count": 12,
   "metadata": {},
   "outputs": [],
   "source": [
    "#append fonksiyonu bir listeyi oluştururken ya da listeye yeni elemanlar eklenirken genellikle kullanan bir yöntemdir.\n",
    "#Şimdiki örneğimizde oluşturacağımız boş bir listeye araba listesinin elemanlarını başlangıçtan birer arayla ekleyelim.\n",
    "yeniListe=[]\n",
    "for i in range(0,len(araba),2):\n",
    "    yeniListe.append(araba[i])\n",
    "    "
   ]
  },
  {
   "cell_type": "code",
   "execution_count": 13,
   "metadata": {},
   "outputs": [
    {
     "data": {
      "text/plain": [
       "['mercedes', 'audi', 'honda']"
      ]
     },
     "execution_count": 13,
     "metadata": {},
     "output_type": "execute_result"
    }
   ],
   "source": [
    "yeniListe\n",
    "#Yeni listemizi yaratırken range fonksiyonundan yararlandık, sıfırdan başlayıp len(araba) değerine kadar 2'şer gitmesini söyledik."
   ]
  },
  {
   "cell_type": "markdown",
   "metadata": {},
   "source": [
    "Listeye yeni eleman eklemenin bir diğer yöntemi de listenin istediğimiz bir index numarasına insert() fonksiyonu ile değer eklemesi yapabiliyoruz. Yeni değerimiz eklendikten sonra liste elemanlarımız index değerleri birer artarak kaydırmış oluyoruz."
   ]
  },
  {
   "cell_type": "code",
   "execution_count": 14,
   "metadata": {},
   "outputs": [],
   "source": [
    "yeniListe.insert(1,\"toyota\")\n",
    "#1 numaralı indexe toyata değerini ekliyoruz"
   ]
  },
  {
   "cell_type": "code",
   "execution_count": 15,
   "metadata": {},
   "outputs": [
    {
     "data": {
      "text/plain": [
       "['mercedes', 'toyota', 'audi', 'honda']"
      ]
     },
     "execution_count": 15,
     "metadata": {},
     "output_type": "execute_result"
    }
   ],
   "source": [
    "yeniListe\n",
    "#Diğer elemanların kaydığını görebiliyoruz."
   ]
  },
  {
   "cell_type": "code",
   "execution_count": 16,
   "metadata": {},
   "outputs": [],
   "source": [
    "yeniListe.insert(0,[\"a\",\"b\"])"
   ]
  },
  {
   "cell_type": "code",
   "execution_count": 17,
   "metadata": {},
   "outputs": [
    {
     "data": {
      "text/plain": [
       "[['a', 'b'], 'mercedes', 'toyota', 'audi', 'honda']"
      ]
     },
     "execution_count": 17,
     "metadata": {},
     "output_type": "execute_result"
    }
   ],
   "source": [
    "yeniListe\n",
    "#insert yöntemiyle bir liste de ekleyebiliyoruz. Şimdi eklediğimiz bu listeyi silelim."
   ]
  },
  {
   "cell_type": "code",
   "execution_count": 18,
   "metadata": {},
   "outputs": [],
   "source": [
    "del yeniListe[0]"
   ]
  },
  {
   "cell_type": "code",
   "execution_count": 19,
   "metadata": {},
   "outputs": [
    {
     "data": {
      "text/plain": [
       "['mercedes', 'toyota', 'audi', 'honda']"
      ]
     },
     "execution_count": 19,
     "metadata": {},
     "output_type": "execute_result"
    }
   ],
   "source": [
    "yeniListe"
   ]
  },
  {
   "cell_type": "code",
   "execution_count": null,
   "metadata": {},
   "outputs": [],
   "source": []
  }
 ],
 "metadata": {
  "kernelspec": {
   "display_name": "Python 3",
   "language": "python",
   "name": "python3"
  },
  "language_info": {
   "codemirror_mode": {
    "name": "ipython",
    "version": 3
   },
   "file_extension": ".py",
   "mimetype": "text/x-python",
   "name": "python",
   "nbconvert_exporter": "python",
   "pygments_lexer": "ipython3",
   "version": "3.7.3"
  }
 },
 "nbformat": 4,
 "nbformat_minor": 2
}
